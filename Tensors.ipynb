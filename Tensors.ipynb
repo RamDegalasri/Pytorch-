{
  "nbformat": 4,
  "nbformat_minor": 0,
  "metadata": {
    "colab": {
      "provenance": [],
      "authorship_tag": "ABX9TyP+UQKNgGi6bdIjptpaJ2qV",
      "include_colab_link": true
    },
    "kernelspec": {
      "name": "python3",
      "display_name": "Python 3"
    },
    "language_info": {
      "name": "python"
    }
  },
  "cells": [
    {
      "cell_type": "markdown",
      "metadata": {
        "id": "view-in-github",
        "colab_type": "text"
      },
      "source": [
        "<a href=\"https://colab.research.google.com/github/RamDegalasri/Pytorch-/blob/main/Tensors.ipynb\" target=\"_parent\"><img src=\"https://colab.research.google.com/assets/colab-badge.svg\" alt=\"Open In Colab\"/></a>"
      ]
    },
    {
      "cell_type": "markdown",
      "source": [
        "# **TENSORS**"
      ],
      "metadata": {
        "id": "03iB8O2oVBkg"
      }
    },
    {
      "cell_type": "code",
      "execution_count": 1,
      "metadata": {
        "id": "LO2j-OzMd8xz"
      },
      "outputs": [],
      "source": [
        "import torch\n",
        "import numpy as np"
      ]
    },
    {
      "cell_type": "markdown",
      "source": [
        "# **LISTS**"
      ],
      "metadata": {
        "id": "YuAwhn1BYf9o"
      }
    },
    {
      "cell_type": "code",
      "source": [
        "my_list = [[1, 2, 3, 4 ,5], [6, 7, 8, 9, 10]]\n",
        "my_list"
      ],
      "metadata": {
        "colab": {
          "base_uri": "https://localhost:8080/"
        },
        "id": "eP7quxh5VJ3s",
        "outputId": "ec7678c3-32ee-4d43-cd58-0fb960c5d153"
      },
      "execution_count": 2,
      "outputs": [
        {
          "output_type": "execute_result",
          "data": {
            "text/plain": [
              "[[1, 2, 3, 4, 5], [6, 7, 8, 9, 10]]"
            ]
          },
          "metadata": {},
          "execution_count": 2
        }
      ]
    },
    {
      "cell_type": "markdown",
      "source": [
        "# **NUMPY ARRAYS**"
      ],
      "metadata": {
        "id": "zbwXqr1jY8KH"
      }
    },
    {
      "cell_type": "code",
      "source": [
        "np1 = np.random.rand(3, 4)"
      ],
      "metadata": {
        "id": "yfC8YoaTYvbw"
      },
      "execution_count": 3,
      "outputs": []
    },
    {
      "cell_type": "code",
      "source": [
        "np1"
      ],
      "metadata": {
        "colab": {
          "base_uri": "https://localhost:8080/"
        },
        "id": "0763hWMGZE__",
        "outputId": "bdd1a20e-41db-4d34-90c6-fbb3025ac2be"
      },
      "execution_count": 4,
      "outputs": [
        {
          "output_type": "execute_result",
          "data": {
            "text/plain": [
              "array([[0.98717858, 0.26570433, 0.45836398, 0.06323158],\n",
              "       [0.9703908 , 0.99115399, 0.506592  , 0.52665373],\n",
              "       [0.83505235, 0.41083472, 0.61601944, 0.85176536]])"
            ]
          },
          "metadata": {},
          "execution_count": 4
        }
      ]
    },
    {
      "cell_type": "code",
      "source": [
        "np1.dtype"
      ],
      "metadata": {
        "colab": {
          "base_uri": "https://localhost:8080/"
        },
        "id": "QyA_0sPWZFlX",
        "outputId": "418cd793-f122-4415-ebe3-e80d56bbef07"
      },
      "execution_count": 5,
      "outputs": [
        {
          "output_type": "execute_result",
          "data": {
            "text/plain": [
              "dtype('float64')"
            ]
          },
          "metadata": {},
          "execution_count": 5
        }
      ]
    },
    {
      "cell_type": "markdown",
      "source": [
        "# **TENSORS**"
      ],
      "metadata": {
        "id": "fnPaWgrHZMcl"
      }
    },
    {
      "cell_type": "code",
      "source": [
        "tensor_2d = torch.randn(3, 4)"
      ],
      "metadata": {
        "id": "IcYzUspXZIgQ"
      },
      "execution_count": 6,
      "outputs": []
    },
    {
      "cell_type": "code",
      "source": [
        "tensor_2d"
      ],
      "metadata": {
        "colab": {
          "base_uri": "https://localhost:8080/"
        },
        "id": "JsPOwk3nZUHz",
        "outputId": "6e1377e1-a4d0-428e-861b-afb6932a2460"
      },
      "execution_count": 7,
      "outputs": [
        {
          "output_type": "execute_result",
          "data": {
            "text/plain": [
              "tensor([[ 0.0767,  1.2312, -1.2616,  0.6539],\n",
              "        [-1.8226, -0.2238, -0.3790, -1.1345],\n",
              "        [-0.7567,  0.4239,  0.3262,  0.2837]])"
            ]
          },
          "metadata": {},
          "execution_count": 7
        }
      ]
    },
    {
      "cell_type": "code",
      "source": [
        "tensor_3d = torch.randn(2, 3, 4)"
      ],
      "metadata": {
        "id": "QlUkQ-RmZV0B"
      },
      "execution_count": 8,
      "outputs": []
    },
    {
      "cell_type": "code",
      "source": [
        "tensor_3d"
      ],
      "metadata": {
        "colab": {
          "base_uri": "https://localhost:8080/"
        },
        "id": "Vhqe3Q3pZlRC",
        "outputId": "ebb8d3a1-3556-46e4-e4e7-82b3c134bfaf"
      },
      "execution_count": 9,
      "outputs": [
        {
          "output_type": "execute_result",
          "data": {
            "text/plain": [
              "tensor([[[-0.6000, -0.5028,  1.3314, -1.2213],\n",
              "         [-0.0527,  0.6910,  0.8530,  1.9161],\n",
              "         [ 0.3172, -0.8014, -1.6063,  1.6765]],\n",
              "\n",
              "        [[-0.8423, -0.3468, -1.2949, -1.0980],\n",
              "         [-1.8747,  0.2802, -1.9906, -0.3346],\n",
              "         [-0.5476,  1.7568,  0.1481,  0.2001]]])"
            ]
          },
          "metadata": {},
          "execution_count": 9
        }
      ]
    },
    {
      "cell_type": "code",
      "source": [
        "## Create tensor to numpy array\n",
        "my_tensor = torch.tensor(np1)"
      ],
      "metadata": {
        "id": "RVCNEw2qZmNn"
      },
      "execution_count": 10,
      "outputs": []
    },
    {
      "cell_type": "code",
      "source": [
        "my_tensor"
      ],
      "metadata": {
        "colab": {
          "base_uri": "https://localhost:8080/"
        },
        "id": "8jGwUXUmZ2c6",
        "outputId": "4898b80a-a408-4212-ac2c-64e02b029101"
      },
      "execution_count": 11,
      "outputs": [
        {
          "output_type": "execute_result",
          "data": {
            "text/plain": [
              "tensor([[0.9872, 0.2657, 0.4584, 0.0632],\n",
              "        [0.9704, 0.9912, 0.5066, 0.5267],\n",
              "        [0.8351, 0.4108, 0.6160, 0.8518]], dtype=torch.float64)"
            ]
          },
          "metadata": {},
          "execution_count": 11
        }
      ]
    },
    {
      "cell_type": "code",
      "source": [],
      "metadata": {
        "id": "ewhewmMbZ3ny"
      },
      "execution_count": null,
      "outputs": []
    }
  ]
}